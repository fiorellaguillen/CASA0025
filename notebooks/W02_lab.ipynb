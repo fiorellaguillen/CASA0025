{
  "cells": [
    {
      "cell_type": "markdown",
      "metadata": {
        "id": "view-in-github",
        "colab_type": "text"
      },
      "source": [
        "<a href=\"https://colab.research.google.com/github/fiorellaguillen/CASA0025/blob/main/notebooks/W02_lab.ipynb\" target=\"_parent\"><img src=\"https://colab.research.google.com/assets/colab-badge.svg\" alt=\"Open In Colab\"/></a>"
      ]
    },
    {
      "cell_type": "markdown",
      "metadata": {
        "id": "inxA1PjZCnBg"
      },
      "source": [
        "# Week 2 Lab\n",
        "\n",
        "**Datasets**:\n",
        "\n",
        "The following datasets are used in this lab.\n",
        "\n",
        "- [nyc_subway_stations.tsv](https://open.gishub.org/data/duckdb/nyc_subway_stations.tsv)\n",
        "- [nyc_neighborhoods.tsv](https://open.gishub.org/data/duckdb/nyc_neighborhoods.tsv)"
      ],
      "id": "inxA1PjZCnBg"
    },
    {
      "cell_type": "code",
      "execution_count": 1,
      "metadata": {
        "id": "S5u_VpNXCnBl",
        "outputId": "f3488777-0d39-42cf-e8b7-8a7c2dec07c5",
        "colab": {
          "base_uri": "https://localhost:8080/"
        }
      },
      "outputs": [
        {
          "output_type": "stream",
          "name": "stdout",
          "text": [
            "Requirement already satisfied: duckdb in /usr/local/lib/python3.11/dist-packages (1.1.3)\n",
            "Collecting duckdb-engine\n",
            "  Downloading duckdb_engine-0.15.0-py3-none-any.whl.metadata (7.9 kB)\n",
            "Collecting jupysql\n",
            "  Downloading jupysql-0.10.17-py3-none-any.whl.metadata (5.7 kB)\n",
            "Requirement already satisfied: packaging>=21 in /usr/local/lib/python3.11/dist-packages (from duckdb-engine) (24.2)\n",
            "Requirement already satisfied: sqlalchemy>=1.3.22 in /usr/local/lib/python3.11/dist-packages (from duckdb-engine) (2.0.37)\n",
            "Requirement already satisfied: prettytable>=3.12.0 in /usr/local/lib/python3.11/dist-packages (from jupysql) (3.12.0)\n",
            "Requirement already satisfied: sqlparse in /usr/local/lib/python3.11/dist-packages (from jupysql) (0.5.3)\n",
            "Requirement already satisfied: ipython-genutils>=0.1.0 in /usr/local/lib/python3.11/dist-packages (from jupysql) (0.2.0)\n",
            "Requirement already satisfied: jinja2 in /usr/local/lib/python3.11/dist-packages (from jupysql) (3.1.5)\n",
            "Requirement already satisfied: sqlglot>=11.3.7 in /usr/local/lib/python3.11/dist-packages (from jupysql) (25.6.1)\n",
            "Collecting jupysql-plugin>=0.4.2 (from jupysql)\n",
            "  Downloading jupysql_plugin-0.4.5-py3-none-any.whl.metadata (7.8 kB)\n",
            "Collecting ploomber-core>=0.2.7 (from jupysql)\n",
            "  Downloading ploomber_core-0.2.26-py3-none-any.whl.metadata (527 bytes)\n",
            "Requirement already satisfied: pyyaml in /usr/local/lib/python3.11/dist-packages (from ploomber-core>=0.2.7->jupysql) (6.0.2)\n",
            "Collecting posthog (from ploomber-core>=0.2.7->jupysql)\n",
            "  Downloading posthog-3.10.0-py2.py3-none-any.whl.metadata (2.8 kB)\n",
            "Requirement already satisfied: wcwidth in /usr/local/lib/python3.11/dist-packages (from prettytable>=3.12.0->jupysql) (0.2.13)\n",
            "Requirement already satisfied: greenlet!=0.4.17 in /usr/local/lib/python3.11/dist-packages (from sqlalchemy>=1.3.22->duckdb-engine) (3.1.1)\n",
            "Requirement already satisfied: typing-extensions>=4.6.0 in /usr/local/lib/python3.11/dist-packages (from sqlalchemy>=1.3.22->duckdb-engine) (4.12.2)\n",
            "Requirement already satisfied: MarkupSafe>=2.0 in /usr/local/lib/python3.11/dist-packages (from jinja2->jupysql) (3.0.2)\n",
            "Requirement already satisfied: requests<3.0,>=2.7 in /usr/local/lib/python3.11/dist-packages (from posthog->ploomber-core>=0.2.7->jupysql) (2.32.3)\n",
            "Requirement already satisfied: six>=1.5 in /usr/local/lib/python3.11/dist-packages (from posthog->ploomber-core>=0.2.7->jupysql) (1.17.0)\n",
            "Collecting monotonic>=1.5 (from posthog->ploomber-core>=0.2.7->jupysql)\n",
            "  Downloading monotonic-1.6-py2.py3-none-any.whl.metadata (1.5 kB)\n",
            "Collecting backoff>=1.10.0 (from posthog->ploomber-core>=0.2.7->jupysql)\n",
            "  Downloading backoff-2.2.1-py3-none-any.whl.metadata (14 kB)\n",
            "Requirement already satisfied: python-dateutil>2.1 in /usr/local/lib/python3.11/dist-packages (from posthog->ploomber-core>=0.2.7->jupysql) (2.8.2)\n",
            "Requirement already satisfied: charset-normalizer<4,>=2 in /usr/local/lib/python3.11/dist-packages (from requests<3.0,>=2.7->posthog->ploomber-core>=0.2.7->jupysql) (3.4.1)\n",
            "Requirement already satisfied: idna<4,>=2.5 in /usr/local/lib/python3.11/dist-packages (from requests<3.0,>=2.7->posthog->ploomber-core>=0.2.7->jupysql) (3.10)\n",
            "Requirement already satisfied: urllib3<3,>=1.21.1 in /usr/local/lib/python3.11/dist-packages (from requests<3.0,>=2.7->posthog->ploomber-core>=0.2.7->jupysql) (2.3.0)\n",
            "Requirement already satisfied: certifi>=2017.4.17 in /usr/local/lib/python3.11/dist-packages (from requests<3.0,>=2.7->posthog->ploomber-core>=0.2.7->jupysql) (2024.12.14)\n",
            "Downloading duckdb_engine-0.15.0-py3-none-any.whl (49 kB)\n",
            "\u001b[2K   \u001b[90m━━━━━━━━━━━━━━━━━━━━━━━━━━━━━━━━━━━━━━━━\u001b[0m \u001b[32m49.6/49.6 kB\u001b[0m \u001b[31m1.9 MB/s\u001b[0m eta \u001b[36m0:00:00\u001b[0m\n",
            "\u001b[?25hDownloading jupysql-0.10.17-py3-none-any.whl (95 kB)\n",
            "\u001b[2K   \u001b[90m━━━━━━━━━━━━━━━━━━━━━━━━━━━━━━━━━━━━━━━━\u001b[0m \u001b[32m95.2/95.2 kB\u001b[0m \u001b[31m3.7 MB/s\u001b[0m eta \u001b[36m0:00:00\u001b[0m\n",
            "\u001b[?25hDownloading jupysql_plugin-0.4.5-py3-none-any.whl (192 kB)\n",
            "\u001b[2K   \u001b[90m━━━━━━━━━━━━━━━━━━━━━━━━━━━━━━━━━━━━━━━━\u001b[0m \u001b[32m192.8/192.8 kB\u001b[0m \u001b[31m8.2 MB/s\u001b[0m eta \u001b[36m0:00:00\u001b[0m\n",
            "\u001b[?25hDownloading ploomber_core-0.2.26-py3-none-any.whl (22 kB)\n",
            "Downloading posthog-3.10.0-py2.py3-none-any.whl (71 kB)\n",
            "\u001b[2K   \u001b[90m━━━━━━━━━━━━━━━━━━━━━━━━━━━━━━━━━━━━━━━━\u001b[0m \u001b[32m71.0/71.0 kB\u001b[0m \u001b[31m4.5 MB/s\u001b[0m eta \u001b[36m0:00:00\u001b[0m\n",
            "\u001b[?25hDownloading backoff-2.2.1-py3-none-any.whl (15 kB)\n",
            "Downloading monotonic-1.6-py2.py3-none-any.whl (8.2 kB)\n",
            "Installing collected packages: monotonic, backoff, posthog, duckdb-engine, ploomber-core, jupysql-plugin, jupysql\n",
            "Successfully installed backoff-2.2.1 duckdb-engine-0.15.0 jupysql-0.10.17 jupysql-plugin-0.4.5 monotonic-1.6 ploomber-core-0.2.26 posthog-3.10.0\n"
          ]
        }
      ],
      "source": [
        "%pip install duckdb duckdb-engine jupysql"
      ],
      "id": "S5u_VpNXCnBl"
    },
    {
      "cell_type": "code",
      "execution_count": 2,
      "metadata": {
        "id": "xkSOYpjxCnBo"
      },
      "outputs": [],
      "source": [
        "import duckdb\n",
        "\n",
        "%load_ext sql"
      ],
      "id": "xkSOYpjxCnBo"
    },
    {
      "cell_type": "code",
      "execution_count": 3,
      "metadata": {
        "id": "-1guRTj-CnBo"
      },
      "outputs": [],
      "source": [
        "%config SqlMagic.autopandas = True\n",
        "%config SqlMagic.feedback = False\n",
        "%config SqlMagic.displaycon = False"
      ],
      "id": "-1guRTj-CnBo"
    },
    {
      "cell_type": "code",
      "source": [
        "%sql duckdb:///:memory:"
      ],
      "metadata": {
        "id": "VrmZWXxjDu5G"
      },
      "id": "VrmZWXxjDu5G",
      "execution_count": 5,
      "outputs": []
    },
    {
      "cell_type": "markdown",
      "metadata": {
        "id": "3kYy48eRCnBp"
      },
      "source": [
        "## Question 1: Creating Tables\n",
        "\n",
        "Create a database, then write a SQL query to create a table named `nyc_subway_stations` and load the data from the file `nyc_subway_stations.tsv` into it. Similarly, create a table named `nyc_neighborhoods` and load the data from the file `nyc_neighborhoods.tsv` into it."
      ],
      "id": "3kYy48eRCnBp"
    },
    {
      "cell_type": "code",
      "execution_count": 6,
      "metadata": {
        "id": "fYzTOzjtCnBq",
        "outputId": "e7e489ad-d261-41a2-db20-d6b9cfe42093",
        "colab": {
          "base_uri": "https://localhost:8080/"
        }
      },
      "outputs": [
        {
          "output_type": "stream",
          "name": "stderr",
          "text": [
            "RuntimeError: If using snippets, you may pass the --with argument explicitly.\n",
            "For more details please refer: https://jupysql.ploomber.io/en/latest/compose.html#with-argument\n",
            "\n",
            "\n",
            "Original error message from DB driver:\n",
            "(duckdb.duckdb.CatalogException) Catalog Error: Table Function with name read_tsv does not exist!\n",
            "Did you mean \"read_csv\"?\n",
            "LINE 3: FROM read_tsv('https://open.gishub.org/data/duckdb/nyc_subway_stations.tsv')...\n",
            "             ^\n",
            "[SQL: CREATE TABLE nyc_subway_stations AS\n",
            "SELECT *\n",
            "FROM read_tsv('https://open.gishub.org/data/duckdb/nyc_subway_stations.tsv')]\n",
            "(Background on this error at: https://sqlalche.me/e/20/f405)\n",
            "\n",
            "If you need help solving this issue, send us a message: https://ploomber.io/community\n"
          ]
        }
      ],
      "source": [
        "%%sql\n",
        "CREATE TABLE nyc_subway_stations AS\n",
        "SELECT *\n",
        "FROM read_tsv('https://open.gishub.org/data/duckdb/nyc_subway_stations.tsv')"
      ],
      "id": "fYzTOzjtCnBq"
    },
    {
      "cell_type": "code",
      "source": [
        "%%sql\n",
        "CREATE TABLE nyc_neighborhoods AS\n",
        "SELECT *\n",
        "FROM read_tsv('https://open.gishub.org/data/duckdb/nyc_neighborhoods.tsv')"
      ],
      "metadata": {
        "id": "YdjpZgLjDjmc"
      },
      "id": "YdjpZgLjDjmc",
      "execution_count": null,
      "outputs": []
    },
    {
      "cell_type": "markdown",
      "metadata": {
        "id": "X25JOKL2CnBq"
      },
      "source": [
        "## Question 2: Column Filtering\n",
        "\n",
        "Write a SQL query to display the `ID`, `NAME`, and `BOROUGH` of each subway station in the `nyc_subway_stations` dataset."
      ],
      "id": "X25JOKL2CnBq"
    },
    {
      "cell_type": "code",
      "execution_count": null,
      "metadata": {
        "id": "WDmsDOywCnBr"
      },
      "outputs": [],
      "source": [
        "# Add your code here."
      ],
      "id": "WDmsDOywCnBr"
    },
    {
      "cell_type": "markdown",
      "metadata": {
        "id": "GNEYGrOKCnBs"
      },
      "source": [
        "## Question 3: Row Filtering\n",
        "\n",
        "Write a SQL query to find all subway stations in the `nyc_subway_stations` dataset that are located in the borough of Manhattan."
      ],
      "id": "GNEYGrOKCnBs"
    },
    {
      "cell_type": "code",
      "execution_count": null,
      "metadata": {
        "id": "RFaeTVWaCnBs"
      },
      "outputs": [],
      "source": [
        "# Add your code here."
      ],
      "id": "RFaeTVWaCnBs"
    },
    {
      "cell_type": "markdown",
      "metadata": {
        "id": "aY_tEKZiCnBt"
      },
      "source": [
        "## Question 4: Sorting Results\n",
        "\n",
        "Write a SQL query to list the subway stations in the `nyc_subway_stations` dataset in alphabetical order by their names."
      ],
      "id": "aY_tEKZiCnBt"
    },
    {
      "cell_type": "code",
      "execution_count": null,
      "metadata": {
        "id": "PkTR3BGoCnBt"
      },
      "outputs": [],
      "source": [
        "# Add your code here."
      ],
      "id": "PkTR3BGoCnBt"
    },
    {
      "cell_type": "markdown",
      "metadata": {
        "id": "82Um8i2jCnBu"
      },
      "source": [
        "## Question 5: Unique Values\n",
        "\n",
        "Write a SQL query to find the distinct boroughs represented in the `nyc_subway_stations` dataset."
      ],
      "id": "82Um8i2jCnBu"
    },
    {
      "cell_type": "code",
      "execution_count": null,
      "metadata": {
        "id": "4cnAxYLcCnBu"
      },
      "outputs": [],
      "source": [
        "# Add your code here."
      ],
      "id": "4cnAxYLcCnBu"
    },
    {
      "cell_type": "markdown",
      "metadata": {
        "id": "m2AdzZxfCnBu"
      },
      "source": [
        "## Question 6: Counting Rows\n",
        "\n",
        "Write a SQL query to count the number of subway stations in each borough in the `nyc_subway_stations` dataset."
      ],
      "id": "m2AdzZxfCnBu"
    },
    {
      "cell_type": "code",
      "execution_count": null,
      "metadata": {
        "id": "tycTP69GCnBv"
      },
      "outputs": [],
      "source": [
        "# Add your code here."
      ],
      "id": "tycTP69GCnBv"
    },
    {
      "cell_type": "markdown",
      "metadata": {
        "id": "5J-Gz5N8CnBv"
      },
      "source": [
        "## Question 7: Aggregating Data\n",
        "\n",
        "Write a SQL query to list the number of subway stations in each borough, sorted in descending order by the count."
      ],
      "id": "5J-Gz5N8CnBv"
    },
    {
      "cell_type": "code",
      "execution_count": null,
      "metadata": {
        "id": "o_tGA9TlCnBv"
      },
      "outputs": [],
      "source": [
        "# Add your code here."
      ],
      "id": "o_tGA9TlCnBv"
    },
    {
      "cell_type": "markdown",
      "metadata": {
        "id": "qydkleViCnBv"
      },
      "source": [
        "## Question 8: Joining Tables\n",
        "\n",
        "Write a SQL query to join the `nyc_subway_stations` and `nyc_neighborhoods` datasets on the borough name, displaying the subway station name and the neighborhood name."
      ],
      "id": "qydkleViCnBv"
    },
    {
      "cell_type": "code",
      "execution_count": null,
      "metadata": {
        "id": "9yVnCbJrCnBw"
      },
      "outputs": [],
      "source": [
        "# Add your code here."
      ],
      "id": "9yVnCbJrCnBw"
    },
    {
      "cell_type": "markdown",
      "metadata": {
        "id": "sATwScy_CnBw"
      },
      "source": [
        "## Question 9: String Manipulation\n",
        "\n",
        "Write a SQL query to display the names of subway stations in the `nyc_subway_stations` dataset that contain the word \"St\" in their names."
      ],
      "id": "sATwScy_CnBw"
    },
    {
      "cell_type": "code",
      "execution_count": null,
      "metadata": {
        "id": "4mA7iPC4CnBw"
      },
      "outputs": [],
      "source": [
        "# Add your code here."
      ],
      "id": "4mA7iPC4CnBw"
    },
    {
      "cell_type": "markdown",
      "metadata": {
        "id": "iM4fBRa6CnBw"
      },
      "source": [
        "## Question 10: Filtering with Multiple Conditions\n",
        "\n",
        "Write a SQL query to find all subway stations in the `nyc_subway_stations` dataset that are in the borough of Brooklyn and have routes that include the letter \"R\"."
      ],
      "id": "iM4fBRa6CnBw"
    },
    {
      "cell_type": "code",
      "execution_count": null,
      "metadata": {
        "id": "OQFPeduICnBx"
      },
      "outputs": [],
      "source": [
        "# Add your code here."
      ],
      "id": "OQFPeduICnBx"
    },
    {
      "cell_type": "markdown",
      "id": "2a78cbfd",
      "metadata": {
        "id": "2a78cbfd"
      },
      "source": [
        "Once you've completed your attempt, you can check your answers [here](https://github.com/oballinger/CASA0025/blob/main/notebooks/W02_lab_solution.ipynb)."
      ]
    }
  ],
  "metadata": {
    "kernelspec": {
      "display_name": "Python 3",
      "language": "python",
      "name": "python3"
    },
    "language_info": {
      "codemirror_mode": {
        "name": "ipython",
        "version": 3
      },
      "file_extension": ".py",
      "mimetype": "text/x-python",
      "name": "python",
      "nbconvert_exporter": "python",
      "pygments_lexer": "ipython3",
      "version": "3.9.18"
    },
    "colab": {
      "provenance": [],
      "include_colab_link": true
    }
  },
  "nbformat": 4,
  "nbformat_minor": 5
}